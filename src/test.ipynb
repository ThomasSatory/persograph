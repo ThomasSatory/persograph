{
 "cells": [
  {
   "cell_type": "code",
   "execution_count": 2,
   "metadata": {},
   "outputs": [
    {
     "name": "stderr",
     "output_type": "stream",
     "text": [
      "d:\\Python\\Lib\\site-packages\\fuzzywuzzy\\fuzz.py:11: UserWarning: Using slow pure-python SequenceMatcher. Install python-Levenshtein to remove this warning\n",
      "  warnings.warn('Using slow pure-python SequenceMatcher. Install python-Levenshtein to remove this warning')\n"
     ]
    }
   ],
   "source": [
    "from fuzzywuzzy import fuzz\n",
    "from jaro import jaro_winkler_metric\n",
    "import os \n",
    "import json\n",
    "\n",
    "path_dictionary = \"../res/dictionnary.json\"\n",
    "\n",
    "data = [{'entity_group': 'PER', 'score': 0.960906, 'word': 'Mycogène', 'start': 38, 'end': 47}, {'entity_group': 'PER', 'score': 0.9577392, 'word': 'Mycogène', 'start': 181, 'end': 190}, {'entity_group': 'PER', 'score': 0.99822825, 'word': 'Hari Seldon', 'start': 311, 'end': 323}, {'entity_group': 'MISC', 'score': 0.8428267, 'word': 'Fuite', 'start': 358, 'end': 364}, {'entity_group': 'PER', 'score': 0.99779665, 'word': 'Seldon', 'start': 519, 'end': 526}, {'entity_group': 'PER', 'score': 0.99679154, 'word': 'Grisnuage Dors', 'start': 572, 'end': 587}, {'entity_group': 'ORG', 'score': 0.69789827, 'word': 'Sœurs', 'start': 1072, 'end': 1078}, {'entity_group': 'MISC', 'score': 0.7321965, 'word': 'Trantor', 'start': 1976, 'end': 1984}, {'entity_group': 'MISC', 'score': 0.63828564, 'word': 'Trantoriens', 'start': 1999, 'end': 2011}, {'entity_group': 'PER', 'score': 0.99625015, 'word': 'Seldon', 'start': 2095, 'end': 2102}, {'entity_group': 'PER', 'score': 0.9967127, 'word': 'Dors', 'start': 2131, 'end': 2136}, {'entity_group': 'PER', 'score': 0.996781, 'word': 'Seldon', 'start': 2158, 'end': 2165}, {'entity_group': 'MISC', 'score': 0.9385795, 'word': 'Trantor', 'start': 2255, 'end': 2263}, {'entity_group': 'PER', 'score': 0.98473287, 'word': 'Dors', 'start': 2279, 'end': 2284}, {'entity_group': 'LOC', 'score': 0.65755457, 'word': 'Mycogène', 'start': 337, 'end': 346}, {'entity_group': 'LOC', 'score': 0.9429104, 'word': 'Mycogène', 'start': 491, 'end': 500}, {'entity_group': 'PER', 'score': 0.5342759, 'word': 'Hari', 'start': 694, 'end': 699}, {'entity_group': 'PER', 'score': 0.87994623, 'word': 'Seldon', 'start': 764, 'end': 771}, {'entity_group': 'PER', 'score': 0.6005775, 'word': 'Dors', 'start': 778, 'end': 783}, {'entity_group': 'MISC', 'score': 0.6936686, 'word': 'Hari', 'start': 837, 'end': 842}, {'entity_group': 'PER', 'score': 0.8879832, 'word': 'Seldon', 'start': 913, 'end': 920}, {'entity_group': 'PER', 'score': 0.8502545, 'word': 'Dors', 'start': 975, 'end': 980}, {'entity_group': 'PER', 'score': 0.90468717, 'word': 'Seldon', 'start': 2046, 'end': 2053}, {'entity_group': 'MISC', 'score': 0.9952608, 'word': 'Lois fondamentales de l Humanique', 'start': 2181, 'end': 2215}, {'entity_group': 'PER', 'score': 0.9464698, 'word': 'Dors', 'start': 2463, 'end': 2468}, {'entity_group': 'MISC', 'score': 0.99573666, 'word': 'Lois fondamentales de l Humanique', 'start': 583, 'end': 617}, {'entity_group': 'PER', 'score': 0.99770653, 'word': 'Dors', 'start': 639, 'end': 644}, {'entity_group': 'PER', 'score': 0.9967131, 'word': 'Seldon', 'start': 699, 'end': 706}, {'entity_group': 'PER', 'score': 0.9980365, 'word': 'Dors', 'start': 728, 'end': 733}, {'entity_group': 'PER', 'score': 0.9976179, 'word': 'Mycogène', 'start': 1218, 'end': 1227}, {'entity_group': 'PER', 'score': 0.9964969, 'word': 'Dors', 'start': 1283, 'end': 1288}, {'entity_group': 'PER', 'score': 0.99729973, 'word': 'Seldon', 'start': 1565, 'end': 1572}, {'entity_group': 'MISC', 'score': 0.7112993, 'word': 'Sœurs', 'start': 1594, 'end': 1600}, {'entity_group': 'PER', 'score': 0.9952217, 'word': 'Hari', 'start': 1640, 'end': 1645}, {'entity_group': 'PER', 'score': 0.9971567, 'word': 'Dors', 'start': 1648, 'end': 1653}, {'entity_group': 'PER', 'score': 0.50032896, 'word': 'Goutte', 'start': 1703, 'end': 1710}, {'entity_group': 'MISC', 'score': 0.64130944, 'word': 'de', 'start': 1710, 'end': 1713}, {'entity_group': 'PER', 'score': 0.5136614, 'word': 'Pluie', 'start': 1713, 'end': 1719}, {'entity_group': 'MISC', 'score': 0.6066692, 'word': 'Quarante trois', 'start': 1719, 'end': 1734}, {'entity_group': 'PER', 'score': 0.9952055, 'word': 'Dors', 'start': 1760, 'end': 1765}, {'entity_group': 'PER', 'score': 0.96232706, 'word': 'Hari', 'start': 1798, 'end': 1803}, {'entity_group': 'PER', 'score': 0.99669456, 'word': 'Mycogène', 'start': 2012, 'end': 2021}, {'entity_group': 'PER', 'score': 0.99012303, 'word': 'Chetter Hummin', 'start': 2046, 'end': 2061}, {'entity_group': 'PER', 'score': 0.99302465, 'word': 'Maître du Soleil Quatorze', 'start': 2082, 'end': 2108}, {'entity_group': 'PER', 'score': 0.9887347, 'word': 'Maître du Soleil Quatorze', 'start': 2194, 'end': 2220}, {'entity_group': 'MISC', 'score': 0.67260045, 'word': 'Goutte de Pluie Quarante cinq', 'start': 2245, 'end': 2275}, {'entity_group': 'PER', 'score': 0.62472475, 'word': 'Goutte', 'start': 2297, 'end': 2304}, {'entity_group': 'MISC', 'score': 0.5382013, 'word': 'de', 'start': 2304, 'end': 2307}, {'entity_group': 'PER', 'score': 0.5917641, 'word': 'Pluie Quarante', 'start': 2307, 'end': 2322}, {'entity_group': 'MISC', 'score': 0.6573202, 'word': 'trois', 'start': 2322, 'end': 2328}, {'entity_group': 'PER', 'score': 0.9935217, 'word': 'Seldon', 'start': 252, 'end': 259}, {'entity_group': 'MISC', 'score': 0.85000837, 'word': 'Merci Sœur', 'start': 491, 'end': 502}, {'entity_group': 'PER', 'score': 0.9965532, 'word': 'Dors', 'start': 517, 'end': 522}, {'entity_group': 'PER', 'score': 0.99047935, 'word': 'Seldon', 'start': 654, 'end': 661}, {'entity_group': 'PER', 'score': 0.9965117, 'word': 'Dors', 'start': 1066, 'end': 1071}, {'entity_group': 'LOC', 'score': 0.82800484, 'word': 'la Galaxie', 'start': 1351, 'end': 1362}, {'entity_group': 'PER', 'score': 0.96343195, 'word': 'Goutte de Pluie Quarante', 'start': 1478, 'end': 1503}, {'entity_group': 'PER', 'score': 0.9317552,\n",
    " 'word': 'Goutte de Pluie Quarante'\n",
    ", 'start': 1888, 'end': 1913}, {'entity_group': 'MISC', 'score': 0.90008265, 'word': 'Sœur', 'start': 1940, 'end': 1945}, {'entity_group': 'PER', 'score': 0.98503876, 'word': 'Seldon', 'start': 2123, 'end': \n",
    "2130}, {'entity_group': 'PER', 'score': 0.9884018, 'word': 'Seldon', 'start': 2203, 'end': 2210}, {'entity_group': 'PER', 'score': 0.9957754, 'word': 'Dors', 'start': 2247, 'end': 2252}, {'entity_group': 'MISC', 'score': 0.80419064, 'word': 'la Couverture', 'start': 92, 'end': 106}, {'entity_group': 'PER', 'score': 0.9691584, 'word': 'Dors', 'start': 248, 'end': 253}, {'entity_group': 'PER', 'score': 0.9719794, 'word': 'Seldon', 'start': 491, 'end': 498}, {'entity_group': 'PER', 'score': 0.7238325, 'word': 'Goutte de Pluie Quarante trois', 'start': 918, 'end': 949}, {'entity_group': 'PER', 'score': 0.9855871, 'word': 'Seldon', 'start': 977, 'end': 984}, {'entity_group': 'PER', 'score': 0.9840964, 'word': 'Seldon', 'start': 1119, 'end': 1126}, {'entity_group': 'LOC', 'score': 0.5729596, 'word': 'Hélicon', 'start': 1282, 'end': 1290}, {'entity_group': 'PER', 'score': 0.9875432, 'word': 'Seldon', 'start': 1290, 'end': 1297}, {'entity_group': 'PER', 'score': 0.9796753, 'word': 'Seldon', 'start': 1608, 'end': 1615}, {'entity_group': 'PER', 'score': 0.98581487, 'word': \n",
    "'Seldon', 'start': 2097, 'end': 2104}, {'entity_group': 'PER', 'score': 0.9813559, 'word': 'Goutte de Pluie Quarante trois', 'start': 2182, 'end': 2213}, {'entity_group': 'MISC', 'score': 0.38650653, 'word': 'Frère', 'start': 289, 'end': 295}, {'entity_group': 'MISC', 'score': 0.4370705, 'word': 'Sœur', 'start': 305, 'end': 310}, {'entity_group': 'PER', 'score': 0.9905695, 'word': 'Seldon', 'start': 457, 'end': 464}, {'entity_group': 'PER', 'score': 0.9919464, 'word': 'Seldon', 'start': 791, 'end': 798}, {'entity_group': 'PER', 'score': 0.99519444, 'word': 'Goutte de Pluie Quarante trois', 'start': 1115, 'end': 1146}, {'entity_group': 'PER', 'score': 0.41840586, 'word': 'Frère', 'start': 1194, 'end': 1200}, {'entity_group': 'PER', 'score': 0.36576742, 'word': 'Sœur', 'start': 1207, 'end': 1212}, {'entity_group': 'PER', 'score': 0.9928993, 'word': 'Seldon', 'start': 1395, 'end': 1402}, {'entity_group': 'PER', 'score': 0.9945254, 'word': 'Seldon', 'start': 1609, 'end': 1616}, {'entity_group': 'PER', 'score': 0.9943818, 'word': 'Goutte de Pluie Quarante trois', 'start': 1900, 'end': 1931}, {'entity_group': 'MISC', 'score': 0.6691397, 'word': 'Tenez Venez', 'start': 2122, 'end': 2134}, {'entity_group': 'PER', 'score': 0.6301077, 'word': 'Frère', 'start': 2277, 'end': 2283}, {'entity_group': 'PER', 'score': 0.94675076, 'word': 'Goutte de Plu', 'start': 2395, 'end': 2409}, {'entity_group': 'PER', 'score': 0.8724839, 'word': 'Goutte de Pluie Quarante', 'start': 39, 'end': 64}, {'entity_group': \n",
    "'PER', 'score': 0.89059466, 'word': 'Frère', 'start': 255, 'end': 261}, {'entity_group': 'PER', 'score': 0.99101245, 'word': 'Seldon', 'start': 279, 'end': 286}, {'entity_group': 'LOC', 'score': 0.99256176, 'word': 'Mycogène', 'start': 557, 'end': 566}, {'entity_group': 'PER', 'score': 0.90238875, 'word': 'Seldon', 'start': 696, 'end': 703}, {'entity_group': 'PER', 'score': 0.99623907, 'word': 'Seldon', 'start': 1342, 'end': 1349}, {'entity_group': 'PER', 'score': 0.9946047, 'word': 'Seldon', 'start': 2184, 'end': 2191}, {'entity_group': 'LOC', 'score': 0.9092332, 'word': 'Empire Galactique', 'start': 2435, 'end': 2453}, {'entity_group': 'PER', 'score': 0.98278105, 'word': 'Seldon', 'start': 1270, 'end': 1277}, {'entity_group': 'PER', 'score': 0.8921183, 'word': 'Goutte de Pluie', 'start': 1410, 'end': 1426}, {'entity_group': 'MISC', 'score': 0.80405605, 'word': 'Quarante trois', 'start': 1426, 'end': 1441}, {'entity_group': 'PER', 'score': 0.98419416, 'word': 'Seldon', 'start': 1551, 'end': 1558},\n",
    "{'entity_group': 'PER', 'score': 0.960906, 'word': 'Mycogène', 'start': 38, 'end': 47}, {'entity_group': 'PER', 'score': 0.9577392, 'word': 'Mycogène', 'start': 181, 'end': 190}, {'entity_group': 'PER', 'score': 0.99822825, 'word': 'Hari Seldon', 'start': 311, 'end': 323}, {'entity_group': 'MISC', 'score': 0.8428267, 'word': 'Fuite', 'start': 358, 'end': 364}, {'entity_group': 'PER', 'score': 0.99779665, 'word': 'Seldon', 'start': 519, 'end': 526}, {'entity_group': 'PER', 'score': 0.99679154, 'word': 'Grisnuage Dors', 'start': 572, 'end': 587}, {'entity_group': 'ORG', 'score': 0.69789827, 'word': 'Sœurs', 'start': 1072, 'end': 1078}, {'entity_group': 'MISC', 'score': 0.7321965, 'word': 'Trantor', 'start': 1976, 'end': 1984}, {'entity_group': 'MISC', 'score': 0.63828564, 'word': 'Trantoriens', 'start': 1999, 'end': 2011}, {'entity_group': 'PER', 'score': 0.99625015, 'word': 'Seldon', 'start': 2095, 'end': 2102}, {'entity_group': 'PER', 'score': 0.9967127, 'word': 'Dors', 'start': 2131, 'end': 2136}, {'entity_group': 'PER', 'score': 0.996781, 'word': 'Seldon', 'start': 2158, 'end': 2165}, {'entity_group': 'MISC', 'score': 0.9385795, 'word': 'Trantor', 'start': 2255, 'end': 2263}, {'entity_group': 'PER', 'score': 0.98473287, 'word': 'Dors', 'start': 2279, 'end': 2284}, {'entity_group': 'LOC', 'score': 0.65755457, 'word': 'Mycogène', 'start': 337, 'end': 346}, {'entity_group': 'LOC', 'score': 0.9429104, 'word': 'Mycogène', 'start': 491, 'end': 500}, {'entity_group': 'PER', 'score': 0.5342759, 'word': 'Hari', 'start': 694, 'end': 699}, {'entity_group': 'PER', 'score': 0.87994623, 'word': 'Seldon', 'start': 764, 'end': 771}, {'entity_group': 'PER', 'score': 0.6005775, 'word': 'Dors', 'start': 778, 'end': 783}, {'entity_group': 'MISC', 'score': 0.6936686, 'word': 'Hari', 'start': 837, 'end': 842}, {'entity_group': 'PER', 'score': 0.8879832, 'word': 'Seldon', 'start': 913, 'end': 920}, {'entity_group': 'PER', 'score': 0.8502545, 'word': 'Dors', 'start': 975, 'end': 980}, {'entity_group': 'PER', 'score': 0.90468717, 'word': 'Seldon', 'start': 2046, 'end': 2053}, {'entity_group': 'MISC', 'score': 0.9952608, 'word': 'Lois fondamentales de l Humanique', 'start': 2181, 'end': 2215}, {'entity_group': 'PER', 'score': 0.9464698, 'word': 'Dors', 'start': 2463, 'end': 2468}, {'entity_group': 'MISC', 'score': 0.99573666,\n",
    "'word': 'Lois fondamentales de l Humanique'\n",
    ", 'start': 583, 'end': 617}, {'entity_group': 'PER', 'score': 0.99770653, 'word': 'Dors', 'start': 639, 'end': 644}, {'entity_group': 'PER', 'score': 0.9967131, 'word': 'Seldon', 'start': 699, 'end': 706}, {'entity_group': 'PER', 'score': 0.9980365, 'word': 'Dors', 'start': 728, 'end': 733}, {'entity_group': 'PER', 'score': 0.9976179, 'word': 'Mycogène', 'start': 1218, 'end': 1227}, {'entity_group': 'PER', 'score': 0.9964969, 'word': 'Dors', 'start': 1283, 'end': 1288}, {'entity_group': 'PER', 'score': 0.99729973, 'word': 'Seldon', 'start': 1565, 'end': 1572}, {'entity_group': 'MISC', 'score': 0.7112993, 'word': 'Sœurs', 'start': 1594, 'end': 1600}, {'entity_group': 'PER', 'score': 0.9952217, 'word': 'Hari', 'start': 1640, 'end': 1645}, {'entity_group': 'PER', 'score': 0.9971567, 'word': 'Dors', 'start': 1648, 'end': 1653}, {'entity_group': 'PER', 'score': 0.50032896, 'word': 'Goutte', 'start': 1703, 'end': 1710}, {'entity_group': 'MISC', 'score': 0.64130944, 'word': 'de', 'start': 1710, 'end': 1713}, {'entity_group': 'PER', 'score': 0.5136614, 'word': 'Pluie', 'start': 1713, 'end': 1719}, {'entity_group': 'MISC', 'score': 0.6066692, 'word': 'Quarante trois', 'start': 1719, 'end': 1734}, {'entity_group': 'PER', 'score': 0.9952055, 'word': 'Dors', 'start': 1760, 'end': 1765}, {'entity_group': 'PER', 'score': 0.96232706, 'word': 'Hari', 'start': 1798, 'end': 1803}, {'entity_group': 'PER', 'score': 0.99669456, 'word': 'Mycogène', 'start': 2012, 'end': 2021}, {'entity_group': 'PER', 'score': 0.99012303, 'word': 'Chetter Hummin', 'start': 2046, 'end': 2061}, {'entity_group': 'PER', 'score': 0.99302465, 'word': 'Maître du Soleil Quatorze', 'start': 2082, 'end': 2108}, {'entity_group': 'PER', 'score': 0.9887347, 'word': 'Maître du Soleil Quatorze', 'start': 2194, 'end': 2220}, {'entity_group': 'MISC', 'score': 0.67260045, 'word': 'Goutte de Pluie Quarante cinq', 'start': 2245, 'end': 2275}, {'entity_group': 'PER', 'score': 0.62472475, 'word': 'Goutte', 'start': 2297, 'end': 2304}, {'entity_group': 'MISC', 'score': 0.5382013, 'word': 'de', 'start': 2304, 'end': 2307}, {'entity_group': 'PER', 'score': 0.5917641, 'word': 'Pluie Quarante', 'start': 2307, 'end': 2322}, {'entity_group': 'MISC', 'score': 0.6573202, 'word': 'trois', 'start': 2322, 'end': 2328}, {'entity_group': 'PER', 'score': 0.9935217, 'word': 'Seldon', 'start': 252, 'end': 259}, {'entity_group': 'MISC', 'score': 0.85000837, 'word': 'Merci Sœur', 'start': 491, 'end': 502}, {'entity_group': 'PER', 'score': 0.9965532, 'word': 'Dors', 'start': 517, 'end': 522}, {'entity_group': 'PER', 'score': 0.99047935, 'word': 'Seldon', 'start': 654, 'end': 661}, {'entity_group': 'PER', 'score': 0.9965117, 'word': 'Dors', 'start': 1066, 'end': 1071}, {'entity_group': 'LOC', 'score': 0.82800484, 'word': 'la Galaxie', 'start': 1351, 'end': 1362}, {'entity_group': 'PER', 'score': 0.96343195, 'word': 'Goutte de Pluie Quarante', 'start': 1478, 'end': 1503}, {'entity_group': 'PER', 'score': 0.9317552,\n",
    "'word': 'Goutte de Pluie Quarante' \n",
    ", 'start': 1888, 'end': 1913}, {'entity_group': 'MISC', 'score': 0.90008265, 'word': 'Sœur', 'start': 1940, 'end': 1945}, {'entity_group': 'PER', 'score': 0.98503876, 'word': 'Seldon', 'start': 2123, 'end': \n",
    "2130}, {'entity_group': 'PER', 'score': 0.9884018, 'word': 'Seldon', 'start': 2203, 'end': 2210}, {'entity_group': 'PER', 'score': 0.9957754, 'word': 'Dors', 'start': 2247, 'end': 2252}, {'entity_group': 'MISC', 'score': 0.80419064, 'word': 'la Couverture', 'start': 92, 'end': 106}, {'entity_group': 'PER', 'score': 0.9691584, 'word': 'Dors', 'start': 248, 'end': 253}, {'entity_group': 'PER', 'score': 0.9719794, 'word': 'Seldon', 'start': 491, 'end': 498}, {'entity_group': 'PER', 'score': 0.7238325, 'word': 'Goutte de Pluie Quarante trois', 'start': 918, 'end': 949}, {'entity_group': 'PER', 'score': 0.9855871, 'word': 'Seldon', 'start': 977, 'end': 984}, {'entity_group': 'PER', 'score': 0.9840964, 'word': 'Seldon', 'start': 1119, 'end': 1126}, {'entity_group': 'LOC', 'score': 0.5729596, 'word': 'Hélicon', 'start': 1282, 'end': 1290}, {'entity_group': 'PER', 'score': 0.9875432, 'word': 'Seldon', 'start': 1290, 'end': 1297}, {'entity_group': 'PER', 'score': 0.9796753, 'word': 'Seldon', 'start': 1608, 'end': 1615}, {'entity_group': 'PER', 'score': 0.98581487, 'word': \n",
    "'Seldon', 'start': 2097, 'end': 2104}, {'entity_group': 'PER', 'score': 0.9813559, 'word': 'Goutte de Pluie Quarante trois', 'start': 2182, 'end': 2213}, {'entity_group': 'MISC', 'score': 0.38650653, 'word': 'Frère', 'start': 289, 'end': 295}, {'entity_group': 'MISC', 'score': 0.4370705, 'word': 'Sœur', 'start': 305, 'end': 310}, {'entity_group': 'PER', 'score': 0.9905695, 'word': 'Seldon', 'start': 457, 'end': 464}, {'entity_group': 'PER', 'score': 0.9919464, 'word': 'Seldon', 'start': 791, 'end': 798}, {'entity_group': 'PER', 'score': 0.99519444, 'word': 'Goutte de Pluie Quarante trois', 'start': 1115, 'end': 1146}, {'entity_group': 'PER', 'score': 0.41840586, 'word': 'Frère', 'start': 1194, 'end': 1200}, {'entity_group': 'PER', 'score': 0.36576742, 'word': 'Sœur', 'start': 1207, 'end': 1212}, {'entity_group': 'PER', 'score': 0.9928993, 'word': 'Seldon', 'start': 1395, 'end': 1402}, {'entity_group': 'PER', 'score': 0.9945254, 'word': 'Seldon', 'start': 1609, 'end': 1616}, {'entity_group': 'PER', 'score': 0.9943818, 'word': 'Goutte de Pluie Quarante trois', 'start': 1900, 'end': 1931}, {'entity_group': 'MISC', 'score': 0.6691397, 'word': 'Tenez Venez', 'start': 2122, 'end': 2134}, {'entity_group': 'PER', 'score': 0.6301077, 'word': 'Frère', 'start': 2277, 'end': 2283}, {'entity_group': 'PER', 'score': 0.94675076, 'word': 'Goutte de Plu', 'start': 2395, 'end': 2409}, {'entity_group': 'PER', 'score': 0.8724839, 'word': 'Goutte de Pluie Quarante', 'start': 39, 'end': 64}, {'entity_group': \n",
    "'PER', 'score': 0.89059466, 'word': 'Frère', 'start': 255, 'end': 261}, {'entity_group': 'PER', 'score': 0.99101245, 'word': 'Seldon', 'start': 279, 'end': 286}, {'entity_group': 'LOC', 'score': 0.99256176, 'word': 'Mycogène', 'start': 557, 'end': 566}, {'entity_group': 'PER', 'score': 0.90238875, 'word': 'Seldon', 'start': 696, 'end': 703}, {'entity_group': 'PER', 'score': 0.99623907, 'word': 'Seldon', 'start': 1342, 'end': 1349}, {'entity_group': 'PER', 'score': 0.9946047, 'word': 'Seldon', 'start': 2184, 'end': 2191}, {'entity_group': 'LOC', 'score': 0.9092332, 'word': 'Empire Galactique', 'start': 2435, 'end': 2453}, {'entity_group': 'PER', 'score': 0.98278105, 'word': 'Seldon', 'start': 1270, 'end': 1277}, {'entity_group': 'PER', 'score': 0.8921183, 'word': 'Goutte de Pluie', 'start': 1410, 'end': 1426}, {'entity_group': 'MISC', 'score': 0.80405605, 'word': 'Quarante trois', 'start': 1426, 'end': 1441}, {'entity_group': 'PER', 'score': 0.98419416, 'word': 'Seldon', 'start': 1551, 'end': 1558}]"
   ]
  },
  {
   "cell_type": "code",
   "execution_count": 4,
   "metadata": {},
   "outputs": [
    {
     "name": "stdout",
     "output_type": "stream",
     "text": [
      "Mycogène\n",
      "Hari Seldon\n",
      "Seldon\n",
      "Grisnuage Dors\n",
      "Dors\n",
      "Hari\n",
      "Chetter Hummin\n",
      "Maître du Soleil Quatorze\n",
      "Goutte de Pluie Quarante\n",
      "Goutte de Pluie Quarante trois\n",
      "Goutte de Plu\n"
     ]
    }
   ],
   "source": [
    "concatenated_data = []\n",
    "\n",
    "for i in data:\n",
    "    if i['entity_group'] == 'PER' and i['score'] > 0.9 and i['word'] not in concatenated_data:\n",
    "        concatenated_data.append(i['word'])\n",
    "        print (i['word'])\n",
    "formatted_ner_results = []\n",
    "id = 0\n",
    "\n",
    "\n",
    "for word in concatenated_data:\n",
    "    formatted_ner_results.append({\n",
    "        \"id\": id,\n",
    "        \"name\": word,\n",
    "        \"category\": 'PER',\n",
    "        \"alias\": []\n",
    "    })\n",
    "    id += 1"
   ]
  },
  {
   "cell_type": "code",
   "execution_count": 5,
   "metadata": {},
   "outputs": [],
   "source": [
    "def is_similar(name1, name2):\n",
    "    name1 = name1.lower()\n",
    "    name2 = name2.lower()\n",
    "\n",
    "    if (name1.startswith('maître') and name2.startswith('maître')):\n",
    "        name1 = name1.split('maître', 1)[-1]\n",
    "        name2 = name2.split('mâitre', 1)[-1]\n",
    "    if (((jaro_winkler_metric(name1, name2) >= 0.8 or fuzz.ratio(name1, name2) >= 80)\n",
    "         or (name1 in name2 or name2 in name1) \n",
    "         or (name1.startswith('dors') and name2.startswith('dors')) \n",
    "         or ((len(name1.split(' ')) > 1 and len(name2.split(' ')) > 1 and (name1.split(' ')[1] in name2 or name2.split(' ')[1] in name1))))\n",
    "                and name1 != name2\n",
    "                and (not name1.startswith('dr') or not name2.startswith('dr')) \n",
    "                and len(name1)>2 and len(name2)>2 \n",
    "                and (not name1.endswith('cinq') or not name2.endswith('trois'))\n",
    "                and (not name1.endswith('trois') or not name2.endswith('cinq'))\n",
    "                ):\n",
    "        print (fuzz.ratio(name1, name2))\n",
    "        return True\n",
    "    return False\n",
    "\n",
    "\n",
    "def pretraitement(name1,name2):\n",
    "    list_maitre = ['maître-du-soleil','maîtresse','maître','maître-du-','maître-']\n",
    "\n",
    "    if (len(name1.split(' ')) > 1):\n",
    "        if (name1.split(' ')[0] in list_maitre):\n",
    "            name1 = name1.split(' ')[1]\n",
    "\n",
    "        if (name1.endswith('cinq') or name1.endswith('trois')):\n",
    "            name2 = name2.rpartition('-')[-1] if '-' in name2 else name2\n",
    "        \n",
    "        if (name1.endswith('baley') or name1.endswith('randa') or name1.endswith('seldon')  or name1.endswith('iv')):\n",
    "            name1 = name1.split(' ')[0]\n",
    "\n",
    "    if (len(name2.split(' ')) > 1):\n",
    "        if (name2.endswith('cinq') or name1.endswith('trois')):\n",
    "            name2 = name2.rpartition('-')[-1] if '-' in name2 else name2\n",
    "\n",
    "        if (name2.endswith('baley') or name2.endswith('randa') or name2.endswith('seldon')):\n",
    "            name2 = name2.split(' ')[0]\n",
    "\n",
    "        #si le premier mot est robot alors on supprime robot dans la chaine \n",
    "        if (name2.split(' ')[0] == 'robot'):\n",
    "            name2 = name2.split(' ', 1)[-1]\n",
    "\n",
    "    if ((name1 == 'goutte-de-pluie' and name2 == 'goutte-de-pluie')\n",
    "        or (name1 == 'baley' and name2 == 'baley')\n",
    "        or (name1 == 'seldon' and name2 == 'seldon')\n",
    "        or (name1 == 'dors' and name2 == 'dors')\n",
    "        or (name1 == 'randa' and name2 == 'randa')\n",
    "        or (name1 == 'marbie' and name2 == 'maître')\n",
    "        or (name1 == 'marron' and name2 == 'marlon tanto')\n",
    "        or (name1 == 'dors venabili' and name2 == 'dors seldon')\n",
    "        or (name1 == 'kan' and name2 == 'kiangtow randa')\n",
    "        or (name1 == 'barrett' and name2 == 'vince barrett')):\n",
    "        return False\n",
    "\n",
    "    if (name1 == name2):\n",
    "        return True\n",
    "    \n",
    "    if (name1.startswith('dr') and name2.startswith('hano') or name1.startswith('hano') and name2.startswith('dr')):\n",
    "        return False\n",
    "\n",
    "    if (name1.startswith('elisabeth') or name2.startswith('elisabeth')):\n",
    "        return False\n",
    "    \n",
    "    if (name1.endswith('venabili') and name2.endswith('machinchose')):\n",
    "        return True\n",
    "\n",
    "def update_dictionary(data):\n",
    "    if not os.path.exists(path_dictionary) or os.path.getsize(path_dictionary) == 0:\n",
    "        # Si le fichier n'existe pas ou est vide, initialisez un dictionnaire vide\n",
    "        dictionary = {}\n",
    "    else:\n",
    "        try:\n",
    "            with open(path_dictionary, \"r\", encoding=\"utf-8\") as f:\n",
    "                dictionary = json.load(f)\n",
    "        except json.JSONDecodeError:\n",
    "            # Gérer l'erreur si le fichier contient des données JSON invalides\n",
    "            print(\"Le fichier JSON est invalide ou vide.\")\n",
    "            dictionary = {}\n",
    "\n",
    "    alias_set = set()\n",
    "    for key in dictionary:\n",
    "        alias_set.update(dictionary[key]['alias'])\n",
    "\n",
    "    for new_entity in data:\n",
    "        new_name = new_entity['name'].lower()\n",
    "        new_aliases = set(alias.lower() for alias in new_entity['alias'])\n",
    "\n",
    "        # Cas 1: Nouvelle entité a le même nom qu'une entité du dictionnaire\n",
    "        if new_name in dictionary:\n",
    "            dictionary[new_name]['alias'] = list(set(alias.lower() for alias in dictionary[new_name]['alias']) | new_aliases)\n",
    "        else:\n",
    "            merged = False\n",
    "\n",
    "            # Cas 2: Nouvelle entité est dans une liste d'alias d'une entité du dictionnaire\n",
    "            for name, entity in dictionary.items():\n",
    "                if new_name in entity['alias']:\n",
    "                    dictionary[name]['alias'] = list(set(alias.lower() for alias in entity['alias']) | new_aliases)\n",
    "                    merged = True\n",
    "                    break\n",
    "\n",
    "                # Cas 3: Nouvelle entité a un alias correspondant à une entité existante ou à ses alias\n",
    "                for alias in entity['alias']:\n",
    "                    if is_similar(new_name, alias) or is_similar(alias, new_name):\n",
    "                        dictionary[name]['alias'] = list(set(alias.lower() for alias in entity['alias']) | new_aliases | {new_name})\n",
    "                        merged = True\n",
    "                        break\n",
    "                if merged:\n",
    "                    break\n",
    "\n",
    "            # Cas 4: Si la nouvelle entité n'a pas été fusionnée, l'ajouter simplement au dictionnaire\n",
    "            if not merged:\n",
    "                dictionary[new_name] = {'alias': list(new_aliases)}\n",
    "\n",
    "    with open(path_dictionary, \"w\", encoding=\"utf-8\") as f:\n",
    "        json.dump(dictionary, f, ensure_ascii=False, indent=4)\n"
   ]
  },
  {
   "cell_type": "code",
   "execution_count": 6,
   "metadata": {},
   "outputs": [],
   "source": [
    "list = [\"goutte-de-pluie\",\n",
    "            \"goutte- de-pluie quarante-trois\",\n",
    "            \"goutte-de-pluie quarante-trois\",\n",
    "            \"goutte-de-pluie quarante-trois\"]\n",
    "\n",
    "\n",
    "for name in list:\n",
    "    if pretraitement('goutte-de-pluie quarante-cinq', name):\n",
    "        print(name)\n",
    "\n",
    "if pretraitement('elijah','elisabeth'):\n",
    "    print('ok')\n"
   ]
  },
  {
   "cell_type": "code",
   "execution_count": 7,
   "metadata": {},
   "outputs": [
    {
     "name": "stdout",
     "output_type": "stream",
     "text": [
      "ko\n"
     ]
    }
   ],
   "source": [
    "if (pretraitement('kan', 'kiangtow randa')):\n",
    "    print('ok')\n",
    "else:\n",
    "    print('ko')"
   ]
  },
  {
   "cell_type": "code",
   "execution_count": 5,
   "metadata": {},
   "outputs": [
    {
     "ename": "FileNotFoundError",
     "evalue": "[WinError 3] Le chemin d’accès spécifié est introuvable: '../res/corpus_asimov_leaderboard_REN/fondation_REN/'",
     "output_type": "error",
     "traceback": [
      "\u001b[1;31m---------------------------------------------------------------------------\u001b[0m",
      "\u001b[1;31mFileNotFoundError\u001b[0m                         Traceback (most recent call last)",
      "Cell \u001b[1;32mIn[5], line 10\u001b[0m\n\u001b[0;32m      7\u001b[0m     \u001b[38;5;28;01mif\u001b[39;00m filename\u001b[38;5;241m.\u001b[39mendswith(\u001b[38;5;124m'\u001b[39m\u001b[38;5;124m.json\u001b[39m\u001b[38;5;124m'\u001b[39m):\n\u001b[0;32m      8\u001b[0m         os\u001b[38;5;241m.\u001b[39mrename(path_corpus_caverne \u001b[38;5;241m+\u001b[39m filename, path_corpus_caverne \u001b[38;5;241m+\u001b[39m filename\u001b[38;5;241m.\u001b[39mreplace(\u001b[38;5;124m'\u001b[39m\u001b[38;5;124mchapter_\u001b[39m\u001b[38;5;124m'\u001b[39m, \u001b[38;5;124m'\u001b[39m\u001b[38;5;124m'\u001b[39m)\u001b[38;5;241m.\u001b[39mreplace(\u001b[38;5;124m'\u001b[39m\u001b[38;5;124m_REN.json\u001b[39m\u001b[38;5;124m'\u001b[39m, \u001b[38;5;124m'\u001b[39m\u001b[38;5;124m.json\u001b[39m\u001b[38;5;124m'\u001b[39m))\n\u001b[1;32m---> 10\u001b[0m \u001b[38;5;28;01mfor\u001b[39;00m filename \u001b[38;5;129;01min\u001b[39;00m \u001b[43mos\u001b[49m\u001b[38;5;241;43m.\u001b[39;49m\u001b[43mlistdir\u001b[49m\u001b[43m(\u001b[49m\u001b[43mpath_corpus_fondation\u001b[49m\u001b[43m)\u001b[49m:\n\u001b[0;32m     11\u001b[0m     \u001b[38;5;28;01mif\u001b[39;00m filename\u001b[38;5;241m.\u001b[39mendswith(\u001b[38;5;124m'\u001b[39m\u001b[38;5;124m.json\u001b[39m\u001b[38;5;124m'\u001b[39m):\n\u001b[0;32m     12\u001b[0m         os\u001b[38;5;241m.\u001b[39mrename(path_corpus_fondation \u001b[38;5;241m+\u001b[39m filename, path_corpus_fondation \u001b[38;5;241m+\u001b[39m filename\u001b[38;5;241m.\u001b[39mreplace(\u001b[38;5;124m'\u001b[39m\u001b[38;5;124mchapter_\u001b[39m\u001b[38;5;124m'\u001b[39m, \u001b[38;5;124m'\u001b[39m\u001b[38;5;124m'\u001b[39m)\u001b[38;5;241m.\u001b[39mreplace(\u001b[38;5;124m'\u001b[39m\u001b[38;5;124m_REN.json\u001b[39m\u001b[38;5;124m'\u001b[39m, \u001b[38;5;124m'\u001b[39m\u001b[38;5;124m.json\u001b[39m\u001b[38;5;124m'\u001b[39m))\n",
      "\u001b[1;31mFileNotFoundError\u001b[0m: [WinError 3] Le chemin d’accès spécifié est introuvable: '../res/corpus_asimov_leaderboard_REN/fondation_REN/'"
     ]
    }
   ],
   "source": [
    "#dans le dossier res/corpus_asimov_leaderboard/prelude_a_fondation rename les fichiers de la sorte chapter_1.txt.preprocessed - > 1.txt\n",
    "\n",
    "path_corpus_caverne = '../res/corpus_asimov_leaderboard_REN/les_cavernes_d_acier_REN/'\n",
    "path_corpus_fondation = '../res/corpus_asimov_leaderboard_REN/prelude_a_fondation_REN/'\n",
    "\n",
    "for filename in os.listdir(path_corpus_caverne):\n",
    "    if filename.endswith('.json'):\n",
    "        os.rename(path_corpus_caverne + filename, path_corpus_caverne + filename.replace('chapter_', '').replace('_REN.json', '.json'))\n",
    "\n",
    "for filename in os.listdir(path_corpus_fondation):\n",
    "    if filename.endswith('.json'):\n",
    "        os.rename(path_corpus_fondation + filename, path_corpus_fondation + filename.replace('chapter_', '').replace('_REN.json', '.json'))"
   ]
  }
 ],
 "metadata": {
  "kernelspec": {
   "display_name": "Python 3",
   "language": "python",
   "name": "python3"
  },
  "language_info": {
   "codemirror_mode": {
    "name": "ipython",
    "version": 3
   },
   "file_extension": ".py",
   "mimetype": "text/x-python",
   "name": "python",
   "nbconvert_exporter": "python",
   "pygments_lexer": "ipython3",
   "version": "3.11.0"
  }
 },
 "nbformat": 4,
 "nbformat_minor": 2
}
